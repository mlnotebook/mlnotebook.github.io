{
 "cells": [
  {
   "cell_type": "code",
   "execution_count": 2,
   "metadata": {
    "collapsed": true,
    "deletable": true,
    "editable": true
   },
   "outputs": [],
   "source": [
    "import numpy as np\n",
    "import matplotlib.pyplot as plt\n",
    "%matplotlib inline"
   ]
  },
  {
   "cell_type": "code",
   "execution_count": 18,
   "metadata": {
    "collapsed": false,
    "deletable": true,
    "editable": true
   },
   "outputs": [],
   "source": [
    "def sgm(x,Derivative=False):\n",
    "    if not Derivative:\n",
    "        return 1 / (1 + np.exp (-x))\n",
    "    else:\n",
    "        out = sgm(x)\n",
    "        return out * (1 - out)\n",
    "def linear(x, Derivative=False):\n",
    "    if not Derivative:\n",
    "        return x\n",
    "    else:\n",
    "        return np.ones(x.shape)\n",
    "    \n",
    "def gaussian(x, Derivative=False):\n",
    "    if not Derivative:\n",
    "        return np.exp(-x**2)\n",
    "    else:\n",
    "        return -2 * x * np.exp(-x**2)\n",
    "    \n",
    "def tanh(x, Derivative=False):\n",
    "    if not Derivative:\n",
    "        return np.tanh(x)\n",
    "    else:\n",
    "        return 1.0 - np.tanh(x)**2\n",
    "    \n",
    "def ramp(x, Derivative=False, T1=0, T2=np.max(x)):\n",
    "    out = np.ones(x.shape)\n",
    "    ids = ((x < T1) | (x > T2))\n",
    "    if not Derivative:\n",
    "        out = ((x - T1)/(T2-T1))\n",
    "        out[(x < T1)] = 0\n",
    "        out[(x > T2)] = 1\n",
    "        return out\n",
    "    else:\n",
    "        out[ids]=0\n",
    "        return out\n",
    "    \n",
    "def relu(x, Derivative=False):\n",
    "    if not Derivative:\n",
    "        return np.maximum(0,x)\n",
    "    else:\n",
    "        out = np.ones(x.shape)\n",
    "        out[(x < 0)]=0\n",
    "        return out\n",
    "\n",
    "def step(x, Derivative=False, T=2):\n",
    "    out = np.zeros(x.shape)\n",
    "    if not Derivative:\n",
    "        out[(x>T)] = 1\n",
    "        return out\n",
    "    else:\n",
    "        out[(x==T)]=1\n",
    "        return out\n",
    "        "
   ]
  },
  {
   "cell_type": "code",
   "execution_count": 19,
   "metadata": {
    "collapsed": false,
    "deletable": true,
    "editable": true
   },
   "outputs": [],
   "source": [
    "x = np.arange(-8,8,0.001)\n",
    "y = sigmoid(x)"
   ]
  },
  {
   "cell_type": "code",
   "execution_count": 20,
   "metadata": {
    "collapsed": false,
    "deletable": true,
    "editable": true
   },
   "outputs": [
    {
     "data": {
      "image/png": "[encoded data removed]",
      "text/plain": [
       "<matplotlib.figure.Figure at 0x7f6313edbb50>"
      ]
     },
     "metadata": {},
     "output_type": "display_data"
    }
   ],
   "source": [
    "fig = plt.figure(figsize=(10,6))\n",
    "\n",
    "ax = fig.add_subplot(111)\n",
    "ax.plot(x,y, linewidth=2.5)\n",
    "plt.axhline(0, color='black')\n",
    "plt.axvline(0, color='black')\n",
    "plt.grid()\n",
    "plt.xticks(np.arange(-8,10,2))\n",
    "plt.yticks(np.arange(-0.2,1.2,0.2))\n",
    "plt.xlabel('x')\n",
    "plt.ylabel('sigmoid(x)')\n",
    "plt.title('Sigmoid Function')\n",
    "plt.rc(\"font\",size=16)\n",
    "plt.savefig('sigmoid.png', bbox_inches='tight')\n",
    "\n"
   ]
  },
  {
   "cell_type": "code",
   "execution_count": null,
   "metadata": {
    "collapsed": true,
    "deletable": true,
    "editable": true
   },
   "outputs": [],
   "source": []
  }
 ],
 "metadata": {
  "kernelspec": {
   "display_name": "Python 2",
   "language": "python",
   "name": "python2"
  },
  "language_info": {
   "codemirror_mode": {
    "name": "ipython",
    "version": 2
   },
   "file_extension": ".py",
   "mimetype": "text/x-python",
   "name": "python",
   "nbconvert_exporter": "python",
   "pygments_lexer": "ipython2",
   "version": "2.7.12"
  }
 },
 "nbformat": 4,
 "nbformat_minor": 2
}
